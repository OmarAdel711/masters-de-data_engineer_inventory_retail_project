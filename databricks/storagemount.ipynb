{
 "cells": [
  {
   "cell_type": "code",
   "execution_count": 0,
   "metadata": {
    "application/vnd.databricks.v1+cell": {
     "cellMetadata": {
      "byteLimit": 2048000,
      "rowLimit": 10000
     },
     "inputWidgets": {},
     "nuid": "613ac332-147b-4a36-989d-9c19d5ffc64a",
     "showTitle": false,
     "title": ""
    }
   },
   "outputs": [
    {
     "output_type": "execute_result",
     "data": {
      "text/plain": [
       "True"
      ]
     },
     "execution_count": 2,
     "metadata": {},
     "output_type": "execute_result"
    }
   ],
   "source": [
    "configs = {\n",
    "    \"fs.azure.account.auth.type\": \"CustomAccessToken\",\n",
    "    \"fs.azure.account.custom.token.provider.class\": spark.conf.get(\"spark.databricks.passthrough.adls.gen2.tokenProviderClassName\")\n",
    "}\n",
    "\n",
    "# Mount ADLS Gen2 to Databricks file system\n",
    "dbutils.fs.mount(\n",
    "    source = \"abfss://bronze@masterssg.dfs.core.windows.net/\",\n",
    "    mount_point = \"/mnt/bronze\",\n",
    "    extra_configs = configs)"
   ]
  },
  {
   "cell_type": "code",
   "execution_count": 0,
   "metadata": {
    "application/vnd.databricks.v1+cell": {
     "cellMetadata": {
      "byteLimit": 2048000,
      "rowLimit": 10000
     },
     "inputWidgets": {},
     "nuid": "dc527729-c380-44be-ab59-a2772ce2edf6",
     "showTitle": false,
     "title": ""
    }
   },
   "outputs": [
    {
     "output_type": "execute_result",
     "data": {
      "text/plain": [
       "[FileInfo(path='dbfs:/mnt/bronze/production/', name='production/', size=0, modificationTime=1729099863000),\n",
       " FileInfo(path='dbfs:/mnt/bronze/sales/', name='sales/', size=0, modificationTime=1729099862000)]"
      ]
     },
     "execution_count": 3,
     "metadata": {},
     "output_type": "execute_result"
    }
   ],
   "source": [
    "dbutils.fs.ls(\"/mnt/bronze\")"
   ]
  },
  {
   "cell_type": "code",
   "execution_count": 0,
   "metadata": {
    "application/vnd.databricks.v1+cell": {
     "cellMetadata": {
      "byteLimit": 2048000,
      "rowLimit": 10000
     },
     "inputWidgets": {},
     "nuid": "31265196-3f0d-4ebf-9ff0-15c7bed58d27",
     "showTitle": false,
     "title": ""
    }
   },
   "outputs": [
    {
     "output_type": "execute_result",
     "data": {
      "text/plain": [
       "[FileInfo(path='dbfs:/mnt/bronze/sales/customers/', name='customers/', size=0, modificationTime=1729099869000),\n",
       " FileInfo(path='dbfs:/mnt/bronze/sales/order_items/', name='order_items/', size=0, modificationTime=1729099863000),\n",
       " FileInfo(path='dbfs:/mnt/bronze/sales/orders/', name='orders/', size=0, modificationTime=1729099928000),\n",
       " FileInfo(path='dbfs:/mnt/bronze/sales/staffs/', name='staffs/', size=0, modificationTime=1729099862000),\n",
       " FileInfo(path='dbfs:/mnt/bronze/sales/stores/', name='stores/', size=0, modificationTime=1729100077000)]"
      ]
     },
     "execution_count": 5,
     "metadata": {},
     "output_type": "execute_result"
    }
   ],
   "source": [
    "dbutils.fs.ls(\"/mnt/bronze/sales\")"
   ]
  },
  {
   "cell_type": "code",
   "execution_count": 0,
   "metadata": {
    "application/vnd.databricks.v1+cell": {
     "cellMetadata": {
      "byteLimit": 2048000,
      "rowLimit": 10000
     },
     "inputWidgets": {},
     "nuid": "9f49b7d8-c85c-427b-9c51-20cdbd0ee38f",
     "showTitle": false,
     "title": ""
    }
   },
   "outputs": [
    {
     "output_type": "execute_result",
     "data": {
      "text/plain": [
       "[FileInfo(path='dbfs:/mnt/bronze/production/categories/', name='categories/', size=0, modificationTime=1729099863000),\n",
       " FileInfo(path='dbfs:/mnt/bronze/production/inventory_levels/', name='inventory_levels/', size=0, modificationTime=1729099863000),\n",
       " FileInfo(path='dbfs:/mnt/bronze/production/products/', name='products/', size=0, modificationTime=1729099865000),\n",
       " FileInfo(path='dbfs:/mnt/bronze/production/suppliers/', name='suppliers/', size=0, modificationTime=1729099898000)]"
      ]
     },
     "execution_count": 6,
     "metadata": {},
     "output_type": "execute_result"
    }
   ],
   "source": [
    "dbutils.fs.ls(\"/mnt/bronze/production\")"
   ]
  },
  {
   "cell_type": "code",
   "execution_count": 0,
   "metadata": {
    "application/vnd.databricks.v1+cell": {
     "cellMetadata": {
      "byteLimit": 2048000,
      "rowLimit": 10000
     },
     "inputWidgets": {},
     "nuid": "feca3339-e54d-48de-919d-ed844b71d0d2",
     "showTitle": false,
     "title": ""
    }
   },
   "outputs": [
    {
     "output_type": "execute_result",
     "data": {
      "text/plain": [
       "True"
      ]
     },
     "execution_count": 4,
     "metadata": {},
     "output_type": "execute_result"
    }
   ],
   "source": [
    "dbutils.fs.mount(\n",
    "    source = \"abfss://silver@masterssg.dfs.core.windows.net/\",\n",
    "    mount_point = \"/mnt/silver\",\n",
    "    extra_configs = configs)\n",
    "\n",
    "dbutils.fs.mount(\n",
    "    source = \"abfss://gold@masterssg.dfs.core.windows.net/\",\n",
    "    mount_point = \"/mnt/gold\",\n",
    "    extra_configs = configs)\n"
   ]
  }
 ],
 "metadata": {
  "application/vnd.databricks.v1+notebook": {
   "dashboards": [],
   "environmentMetadata": null,
   "language": "python",
   "notebookMetadata": {
    "pythonIndentUnit": 4
   },
   "notebookName": "storae mount",
   "widgets": {}
  }
 },
 "nbformat": 4,
 "nbformat_minor": 0
}
